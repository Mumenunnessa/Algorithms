{
 "cells": [
  {
   "cell_type": "code",
   "execution_count": 1,
   "metadata": {},
   "outputs": [],
   "source": [
    "import numpy as np\n",
    "import cv2"
   ]
  },
  {
   "cell_type": "code",
   "execution_count": 2,
   "metadata": {},
   "outputs": [],
   "source": [
    "img = cv2.imread(\"lena.jpg\", 1)\n"
   ]
  },
  {
   "cell_type": "code",
   "execution_count": 3,
   "metadata": {},
   "outputs": [
    {
     "name": "stdout",
     "output_type": "stream",
     "text": [
      "[[[128 138 225]\n",
      "  [127 137 224]\n",
      "  [126 136 224]\n",
      "  ...\n",
      "  [126 145 236]\n",
      "  [110 129 220]\n",
      "  [ 86 104 197]]\n",
      "\n",
      " [[127 137 224]\n",
      "  [127 137 224]\n",
      "  [127 137 224]\n",
      "  ...\n",
      "  [130 150 235]\n",
      "  [112 132 217]\n",
      "  [ 83 102 189]]\n",
      "\n",
      " [[127 137 224]\n",
      "  [127 137 224]\n",
      "  [128 138 225]\n",
      "  ...\n",
      "  [127 148 230]\n",
      "  [112 133 215]\n",
      "  [ 85 105 190]]\n",
      "\n",
      " ...\n",
      "\n",
      " [[ 55  21  82]\n",
      "  [ 54  20  81]\n",
      "  [ 62  28  92]\n",
      "  ...\n",
      "  [ 82  71 175]\n",
      "  [ 78  68 175]\n",
      "  [ 74  65 175]]\n",
      "\n",
      " [[ 55  18  80]\n",
      "  [ 56  19  81]\n",
      "  [ 66  32  96]\n",
      "  ...\n",
      "  [ 82  69 177]\n",
      "  [ 80  71 181]\n",
      "  [ 81  72 183]]\n",
      "\n",
      " [[ 56  19  81]\n",
      "  [ 58  21  83]\n",
      "  [ 68  34  98]\n",
      "  ...\n",
      "  [ 81  68 176]\n",
      "  [ 81  72 183]\n",
      "  [ 84  74 188]]]\n"
     ]
    }
   ],
   "source": [
    "print(img)"
   ]
  },
  {
   "cell_type": "code",
   "execution_count": 4,
   "metadata": {},
   "outputs": [],
   "source": [
    "img = cv2.line(img, (0,0), (255,255), (168, 158, 50), 10) #50, 158, 168 (img,point1(pt1,pt2),clr,thickness)"
   ]
  },
  {
   "cell_type": "code",
   "execution_count": 5,
   "metadata": {},
   "outputs": [],
   "source": [
    "img = cv2.arrowedLine(img, (0,255), (255,255), (153, 50, 168), 10) #50, 158, 168"
   ]
  },
  {
   "cell_type": "code",
   "execution_count": 6,
   "metadata": {},
   "outputs": [],
   "source": [
    "cv2.imshow('image',img)"
   ]
  },
  {
   "cell_type": "code",
   "execution_count": 7,
   "metadata": {},
   "outputs": [
    {
     "data": {
      "text/plain": [
       "-1"
      ]
     },
     "execution_count": 7,
     "metadata": {},
     "output_type": "execute_result"
    }
   ],
   "source": [
    "cv2.waitKey(0)"
   ]
  },
  {
   "cell_type": "code",
   "execution_count": 8,
   "metadata": {},
   "outputs": [],
   "source": [
    "cv2.destroyAllWindows()"
   ]
  },
  {
   "cell_type": "code",
   "execution_count": null,
   "metadata": {},
   "outputs": [],
   "source": []
  }
 ],
 "metadata": {
  "kernelspec": {
   "display_name": "Python 3",
   "language": "python",
   "name": "python3"
  },
  "language_info": {
   "codemirror_mode": {
    "name": "ipython",
    "version": 3
   },
   "file_extension": ".py",
   "mimetype": "text/x-python",
   "name": "python",
   "nbconvert_exporter": "python",
   "pygments_lexer": "ipython3",
   "version": "3.7.4"
  }
 },
 "nbformat": 4,
 "nbformat_minor": 2
}
