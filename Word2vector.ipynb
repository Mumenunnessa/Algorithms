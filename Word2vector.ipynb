{
  "nbformat": 4,
  "nbformat_minor": 0,
  "metadata": {
    "colab": {
      "name": "Untitled2.ipynb",
      "provenance": [],
      "authorship_tag": "ABX9TyNMygGym0lDjp9vRd0sHAQB",
      "include_colab_link": true
    },
    "kernelspec": {
      "name": "python3",
      "display_name": "Python 3"
    }
  },
  "cells": [
    {
      "cell_type": "markdown",
      "metadata": {
        "id": "view-in-github",
        "colab_type": "text"
      },
      "source": [
        "<a href=\"https://colab.research.google.com/github/Mumenunnessa/Algorithms/blob/master/Word2vector.ipynb\" target=\"_parent\"><img src=\"https://colab.research.google.com/assets/colab-badge.svg\" alt=\"Open In Colab\"/></a>"
      ]
    },
    {
      "cell_type": "code",
      "metadata": {
        "id": "sAGwJyMIXX1-",
        "colab_type": "code",
        "colab": {
          "base_uri": "https://localhost:8080/",
          "height": 386
        },
        "outputId": "bbbe7dc7-1245-4b5c-ef59-f14f16e9966d"
      },
      "source": [
        "!pip install nltk\n",
        "!pip install gensim"
      ],
      "execution_count": 1,
      "outputs": [
        {
          "output_type": "stream",
          "text": [
            "Requirement already satisfied: nltk in /usr/local/lib/python3.6/dist-packages (3.2.5)\n",
            "Requirement already satisfied: six in /usr/local/lib/python3.6/dist-packages (from nltk) (1.15.0)\n",
            "Requirement already satisfied: gensim in /usr/local/lib/python3.6/dist-packages (3.6.0)\n",
            "Requirement already satisfied: smart-open>=1.2.1 in /usr/local/lib/python3.6/dist-packages (from gensim) (2.1.0)\n",
            "Requirement already satisfied: scipy>=0.18.1 in /usr/local/lib/python3.6/dist-packages (from gensim) (1.4.1)\n",
            "Requirement already satisfied: six>=1.5.0 in /usr/local/lib/python3.6/dist-packages (from gensim) (1.15.0)\n",
            "Requirement already satisfied: numpy>=1.11.3 in /usr/local/lib/python3.6/dist-packages (from gensim) (1.18.5)\n",
            "Requirement already satisfied: requests in /usr/local/lib/python3.6/dist-packages (from smart-open>=1.2.1->gensim) (2.23.0)\n",
            "Requirement already satisfied: boto in /usr/local/lib/python3.6/dist-packages (from smart-open>=1.2.1->gensim) (2.49.0)\n",
            "Requirement already satisfied: boto3 in /usr/local/lib/python3.6/dist-packages (from smart-open>=1.2.1->gensim) (1.14.37)\n",
            "Requirement already satisfied: idna<3,>=2.5 in /usr/local/lib/python3.6/dist-packages (from requests->smart-open>=1.2.1->gensim) (2.10)\n",
            "Requirement already satisfied: chardet<4,>=3.0.2 in /usr/local/lib/python3.6/dist-packages (from requests->smart-open>=1.2.1->gensim) (3.0.4)\n",
            "Requirement already satisfied: certifi>=2017.4.17 in /usr/local/lib/python3.6/dist-packages (from requests->smart-open>=1.2.1->gensim) (2020.6.20)\n",
            "Requirement already satisfied: urllib3!=1.25.0,!=1.25.1,<1.26,>=1.21.1 in /usr/local/lib/python3.6/dist-packages (from requests->smart-open>=1.2.1->gensim) (1.24.3)\n",
            "Requirement already satisfied: jmespath<1.0.0,>=0.7.1 in /usr/local/lib/python3.6/dist-packages (from boto3->smart-open>=1.2.1->gensim) (0.10.0)\n",
            "Requirement already satisfied: botocore<1.18.0,>=1.17.37 in /usr/local/lib/python3.6/dist-packages (from boto3->smart-open>=1.2.1->gensim) (1.17.37)\n",
            "Requirement already satisfied: s3transfer<0.4.0,>=0.3.0 in /usr/local/lib/python3.6/dist-packages (from boto3->smart-open>=1.2.1->gensim) (0.3.3)\n",
            "Requirement already satisfied: python-dateutil<3.0.0,>=2.1 in /usr/local/lib/python3.6/dist-packages (from botocore<1.18.0,>=1.17.37->boto3->smart-open>=1.2.1->gensim) (2.8.1)\n",
            "Requirement already satisfied: docutils<0.16,>=0.10 in /usr/local/lib/python3.6/dist-packages (from botocore<1.18.0,>=1.17.37->boto3->smart-open>=1.2.1->gensim) (0.15.2)\n"
          ],
          "name": "stdout"
        }
      ]
    },
    {
      "cell_type": "code",
      "metadata": {
        "id": "9Ys6YGXcXp8b",
        "colab_type": "code",
        "colab": {
          "base_uri": "https://localhost:8080/",
          "height": 72
        },
        "outputId": "765f23bc-d878-4614-8e7b-6a3832f78778"
      },
      "source": [
        "#c-bau\n",
        "import nltk\n",
        "from nltk.tokenize import sent_tokenize, word_tokenize\n",
        "nltk.download('punkt')"
      ],
      "execution_count": 6,
      "outputs": [
        {
          "output_type": "stream",
          "text": [
            "[nltk_data] Downloading package punkt to /root/nltk_data...\n",
            "[nltk_data]   Unzipping tokenizers/punkt.zip.\n"
          ],
          "name": "stdout"
        },
        {
          "output_type": "execute_result",
          "data": {
            "text/plain": [
              "True"
            ]
          },
          "metadata": {
            "tags": []
          },
          "execution_count": 6
        }
      ]
    },
    {
      "cell_type": "code",
      "metadata": {
        "id": "kHrFvmdabQkY",
        "colab_type": "code",
        "colab": {}
      },
      "source": [
        "import gensim   #its a library\n",
        "from gensim.models import word2vec"
      ],
      "execution_count": 7,
      "outputs": []
    },
    {
      "cell_type": "code",
      "metadata": {
        "id": "xyrDLFSIbqH5",
        "colab_type": "code",
        "colab": {}
      },
      "source": [
        "text_2 = \"\"\"They're going to engage in an attempt to distract from the real issues that are impacting the American people.\n",
        " And I expect that they will engage in dirty tactics. A\n",
        "nd this is going to be a knockdown, drag-out. And we're ready,\" \n",
        "Harris told media outlet TheGrio in an interview released Sunday, when asked how Trump promoting birther conspiracies signals the tactics his campaign will use.\"\"\""
      ],
      "execution_count": 4,
      "outputs": []
    },
    {
      "cell_type": "code",
      "metadata": {
        "id": "8cH181e2b34t",
        "colab_type": "code",
        "colab": {}
      },
      "source": [
        "data = []\n",
        "for i in sent_tokenize(text_2):\n",
        "  t = []\n",
        "  for j in word_tokenize(i):\n",
        "    t.append(j.lower())\n",
        "  data.append(t) "
      ],
      "execution_count": 8,
      "outputs": []
    },
    {
      "cell_type": "code",
      "metadata": {
        "id": "vQ4p3_NLdLKY",
        "colab_type": "code",
        "colab": {
          "base_uri": "https://localhost:8080/",
          "height": 1000
        },
        "outputId": "f4f3a9f4-330f-47b0-a26e-b7dc10f34f73"
      },
      "source": [
        "data"
      ],
      "execution_count": 9,
      "outputs": [
        {
          "output_type": "execute_result",
          "data": {
            "text/plain": [
              "[['they',\n",
              "  \"'re\",\n",
              "  'going',\n",
              "  'to',\n",
              "  'engage',\n",
              "  'in',\n",
              "  'an',\n",
              "  'attempt',\n",
              "  'to',\n",
              "  'distract',\n",
              "  'from',\n",
              "  'the',\n",
              "  'real',\n",
              "  'issues',\n",
              "  'that',\n",
              "  'are',\n",
              "  'impacting',\n",
              "  'the',\n",
              "  'american',\n",
              "  'people',\n",
              "  '.'],\n",
              " ['and',\n",
              "  'i',\n",
              "  'expect',\n",
              "  'that',\n",
              "  'they',\n",
              "  'will',\n",
              "  'engage',\n",
              "  'in',\n",
              "  'dirty',\n",
              "  'tactics',\n",
              "  '.'],\n",
              " ['a',\n",
              "  'nd',\n",
              "  'this',\n",
              "  'is',\n",
              "  'going',\n",
              "  'to',\n",
              "  'be',\n",
              "  'a',\n",
              "  'knockdown',\n",
              "  ',',\n",
              "  'drag-out',\n",
              "  '.'],\n",
              " ['and',\n",
              "  'we',\n",
              "  \"'re\",\n",
              "  'ready',\n",
              "  ',',\n",
              "  \"''\",\n",
              "  'harris',\n",
              "  'told',\n",
              "  'media',\n",
              "  'outlet',\n",
              "  'thegrio',\n",
              "  'in',\n",
              "  'an',\n",
              "  'interview',\n",
              "  'released',\n",
              "  'sunday',\n",
              "  ',',\n",
              "  'when',\n",
              "  'asked',\n",
              "  'how',\n",
              "  'trump',\n",
              "  'promoting',\n",
              "  'birther',\n",
              "  'conspiracies',\n",
              "  'signals',\n",
              "  'the',\n",
              "  'tactics',\n",
              "  'his',\n",
              "  'campaign',\n",
              "  'will',\n",
              "  'use',\n",
              "  '.']]"
            ]
          },
          "metadata": {
            "tags": []
          },
          "execution_count": 9
        }
      ]
    },
    {
      "cell_type": "code",
      "metadata": {
        "id": "2YlUe56ydxEz",
        "colab_type": "code",
        "colab": {}
      },
      "source": [
        "#CBOW\n",
        "model1=gensim.models.Word2Vec(data, min_count=1, size=2, window=1) #size means dimension 2 for small data\n"
      ],
      "execution_count": 11,
      "outputs": []
    },
    {
      "cell_type": "code",
      "metadata": {
        "id": "ZsECe64PeuUv",
        "colab_type": "code",
        "colab": {
          "base_uri": "https://localhost:8080/",
          "height": 35
        },
        "outputId": "ee02dc0a-3a49-4156-fd14-3f7b803feae8"
      },
      "source": [
        "model1"
      ],
      "execution_count": 12,
      "outputs": [
        {
          "output_type": "execute_result",
          "data": {
            "text/plain": [
              "<gensim.models.word2vec.Word2Vec at 0x7f63193f7128>"
            ]
          },
          "metadata": {
            "tags": []
          },
          "execution_count": 12
        }
      ]
    },
    {
      "cell_type": "code",
      "metadata": {
        "id": "i8H68uQAe71g",
        "colab_type": "code",
        "colab": {
          "base_uri": "https://localhost:8080/",
          "height": 129
        },
        "outputId": "7af0c324-c28b-44f1-bc2d-572318fb557d"
      },
      "source": [
        "model1.similarity(\"harris\", \"thegrio\")"
      ],
      "execution_count": 14,
      "outputs": [
        {
          "output_type": "stream",
          "text": [
            "/usr/local/lib/python3.6/dist-packages/ipykernel_launcher.py:1: DeprecationWarning: Call to deprecated `similarity` (Method will be removed in 4.0.0, use self.wv.similarity() instead).\n",
            "  \"\"\"Entry point for launching an IPython kernel.\n",
            "/usr/local/lib/python3.6/dist-packages/gensim/matutils.py:737: FutureWarning: Conversion of the second argument of issubdtype from `int` to `np.signedinteger` is deprecated. In future, it will be treated as `np.int64 == np.dtype(int).type`.\n",
            "  if np.issubdtype(vec.dtype, np.int):\n"
          ],
          "name": "stderr"
        },
        {
          "output_type": "execute_result",
          "data": {
            "text/plain": [
              "0.71588147"
            ]
          },
          "metadata": {
            "tags": []
          },
          "execution_count": 14
        }
      ]
    },
    {
      "cell_type": "code",
      "metadata": {
        "id": "qGFRg-jFfUCS",
        "colab_type": "code",
        "colab": {}
      },
      "source": [
        "model2= gensim.models.Word2Vec(data, min_count=1, size=2, window=1, sg=1) #sg means how many prediction will predic, single count the vector,window means predict how many"
      ],
      "execution_count": 15,
      "outputs": []
    },
    {
      "cell_type": "code",
      "metadata": {
        "id": "Ah28Yf8dfuqE",
        "colab_type": "code",
        "colab": {
          "base_uri": "https://localhost:8080/",
          "height": 129
        },
        "outputId": "e22e1a91-4c48-4966-f779-ce37afb7458b"
      },
      "source": [
        "model2.similarity(\"harris\", \"thegrio\")"
      ],
      "execution_count": 16,
      "outputs": [
        {
          "output_type": "stream",
          "text": [
            "/usr/local/lib/python3.6/dist-packages/ipykernel_launcher.py:1: DeprecationWarning: Call to deprecated `similarity` (Method will be removed in 4.0.0, use self.wv.similarity() instead).\n",
            "  \"\"\"Entry point for launching an IPython kernel.\n",
            "/usr/local/lib/python3.6/dist-packages/gensim/matutils.py:737: FutureWarning: Conversion of the second argument of issubdtype from `int` to `np.signedinteger` is deprecated. In future, it will be treated as `np.int64 == np.dtype(int).type`.\n",
            "  if np.issubdtype(vec.dtype, np.int):\n"
          ],
          "name": "stderr"
        },
        {
          "output_type": "execute_result",
          "data": {
            "text/plain": [
              "0.71759033"
            ]
          },
          "metadata": {
            "tags": []
          },
          "execution_count": 16
        }
      ]
    },
    {
      "cell_type": "code",
      "metadata": {
        "id": "GEgrCP7mhI_8",
        "colab_type": "code",
        "colab": {
          "base_uri": "https://localhost:8080/",
          "height": 35
        },
        "outputId": "be8fd4fa-0a91-4394-9dba-300847cb39a1"
      },
      "source": [
        "model1.wv[\"harris\"]"
      ],
      "execution_count": 18,
      "outputs": [
        {
          "output_type": "execute_result",
          "data": {
            "text/plain": [
              "array([ 0.04814893, -0.1291195 ], dtype=float32)"
            ]
          },
          "metadata": {
            "tags": []
          },
          "execution_count": 18
        }
      ]
    },
    {
      "cell_type": "code",
      "metadata": {
        "id": "Ngh5CGMShY-V",
        "colab_type": "code",
        "colab": {
          "base_uri": "https://localhost:8080/",
          "height": 35
        },
        "outputId": "78906c02-fff4-40b4-9d2e-9c8f2e8add58"
      },
      "source": [
        "model2.wv[\"harris\"]"
      ],
      "execution_count": 19,
      "outputs": [
        {
          "output_type": "execute_result",
          "data": {
            "text/plain": [
              "array([ 0.04814893, -0.1291195 ], dtype=float32)"
            ]
          },
          "metadata": {
            "tags": []
          },
          "execution_count": 19
        }
      ]
    },
    {
      "cell_type": "code",
      "metadata": {
        "id": "kwyDXCU0htGo",
        "colab_type": "code",
        "colab": {
          "base_uri": "https://localhost:8080/",
          "height": 166
        },
        "outputId": "757b28fc-76b4-4ae9-e6da-ce01381c950e"
      },
      "source": [
        "word = 'expect'\n",
        "model1.wv.most_similar(positive=word, topn=5 )"
      ],
      "execution_count": 21,
      "outputs": [
        {
          "output_type": "stream",
          "text": [
            "/usr/local/lib/python3.6/dist-packages/gensim/matutils.py:737: FutureWarning: Conversion of the second argument of issubdtype from `int` to `np.signedinteger` is deprecated. In future, it will be treated as `np.int64 == np.dtype(int).type`.\n",
            "  if np.issubdtype(vec.dtype, np.int):\n"
          ],
          "name": "stderr"
        },
        {
          "output_type": "execute_result",
          "data": {
            "text/plain": [
              "[('conspiracies', 0.999768853187561),\n",
              " ('real', 0.9997200965881348),\n",
              " ('sunday', 0.9884119629859924),\n",
              " ('nd', 0.9880784153938293),\n",
              " ('people', 0.9873862862586975)]"
            ]
          },
          "metadata": {
            "tags": []
          },
          "execution_count": 21
        }
      ]
    },
    {
      "cell_type": "code",
      "metadata": {
        "id": "gDl6APJkiU1E",
        "colab_type": "code",
        "colab": {
          "base_uri": "https://localhost:8080/",
          "height": 166
        },
        "outputId": "22b70fdf-321e-4f75-aadb-6f17f837fde5"
      },
      "source": [
        "model2.wv.most_similar(positive=word, topn=5 )"
      ],
      "execution_count": 22,
      "outputs": [
        {
          "output_type": "stream",
          "text": [
            "/usr/local/lib/python3.6/dist-packages/gensim/matutils.py:737: FutureWarning: Conversion of the second argument of issubdtype from `int` to `np.signedinteger` is deprecated. In future, it will be treated as `np.int64 == np.dtype(int).type`.\n",
            "  if np.issubdtype(vec.dtype, np.int):\n"
          ],
          "name": "stderr"
        },
        {
          "output_type": "execute_result",
          "data": {
            "text/plain": [
              "[('conspiracies', 0.9998226761817932),\n",
              " ('real', 0.9996826648712158),\n",
              " ('nd', 0.9883109331130981),\n",
              " ('sunday', 0.9882489442825317),\n",
              " ('people', 0.9872599840164185)]"
            ]
          },
          "metadata": {
            "tags": []
          },
          "execution_count": 22
        }
      ]
    },
    {
      "cell_type": "code",
      "metadata": {
        "id": "7_T9Bd0jiXrT",
        "colab_type": "code",
        "colab": {
          "base_uri": "https://localhost:8080/",
          "height": 166
        },
        "outputId": "d7611838-159c-4710-bdcb-8eea053de536"
      },
      "source": [
        "word = [\"expect\"]\n",
        "w2=['a', 'the']\n",
        "model1.wv.most_similar(positive=word,negative=w2, topn=5 )"
      ],
      "execution_count": 24,
      "outputs": [
        {
          "output_type": "stream",
          "text": [
            "/usr/local/lib/python3.6/dist-packages/gensim/matutils.py:737: FutureWarning: Conversion of the second argument of issubdtype from `int` to `np.signedinteger` is deprecated. In future, it will be treated as `np.int64 == np.dtype(int).type`.\n",
            "  if np.issubdtype(vec.dtype, np.int):\n"
          ],
          "name": "stderr"
        },
        {
          "output_type": "execute_result",
          "data": {
            "text/plain": [
              "[('impacting', 0.9999842643737793),\n",
              " ('american', 0.9993992447853088),\n",
              " ('tactics', 0.9932921528816223),\n",
              " ('we', 0.9743268489837646),\n",
              " ('outlet', 0.9739325046539307)]"
            ]
          },
          "metadata": {
            "tags": []
          },
          "execution_count": 24
        }
      ]
    },
    {
      "cell_type": "code",
      "metadata": {
        "id": "iZBaZlfmjMMQ",
        "colab_type": "code",
        "colab": {}
      },
      "source": [
        "def get_related_terms(token, topn=10):\n",
        "  for word, similarity in model1.most_similar(positive=[token], topn=topn):\n",
        "    print(word, round(similarity, 3))"
      ],
      "execution_count": 27,
      "outputs": []
    },
    {
      "cell_type": "code",
      "metadata": {
        "id": "jlW4bw25kcSR",
        "colab_type": "code",
        "colab": {
          "base_uri": "https://localhost:8080/",
          "height": 294
        },
        "outputId": "3edc03a8-69b2-4735-f2dc-6097b96c9f50"
      },
      "source": [
        "get_related_terms(\"campaign\")"
      ],
      "execution_count": 28,
      "outputs": [
        {
          "output_type": "stream",
          "text": [
            "attempt 1.0\n",
            "media 0.999\n",
            "trump 0.994\n",
            "they 0.981\n",
            ". 0.959\n",
            ", 0.948\n",
            "going 0.932\n",
            "birther 0.923\n",
            "issues 0.91\n",
            "asked 0.893\n"
          ],
          "name": "stdout"
        },
        {
          "output_type": "stream",
          "text": [
            "/usr/local/lib/python3.6/dist-packages/ipykernel_launcher.py:2: DeprecationWarning: Call to deprecated `most_similar` (Method will be removed in 4.0.0, use self.wv.most_similar() instead).\n",
            "  \n",
            "/usr/local/lib/python3.6/dist-packages/gensim/matutils.py:737: FutureWarning: Conversion of the second argument of issubdtype from `int` to `np.signedinteger` is deprecated. In future, it will be treated as `np.int64 == np.dtype(int).type`.\n",
            "  if np.issubdtype(vec.dtype, np.int):\n"
          ],
          "name": "stderr"
        }
      ]
    }
  ]
}