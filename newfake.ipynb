{
  "nbformat": 4,
  "nbformat_minor": 0,
  "metadata": {
    "colab": {
      "name": "newfake.ipynb",
      "provenance": [],
      "collapsed_sections": []
    },
    "kernelspec": {
      "name": "python3",
      "display_name": "Python 3"
    }
  },
  "cells": [
    {
      "cell_type": "code",
      "metadata": {
        "colab": {
          "base_uri": "https://localhost:8080/"
        },
        "id": "E262RYeTav8U",
        "outputId": "74e1de22-7f0d-4d6d-ca31-dc1424b69767"
      },
      "source": [
        "from google.colab import drive\n",
        "drive.mount('/content/gdrive')"
      ],
      "execution_count": null,
      "outputs": [
        {
          "output_type": "stream",
          "text": [
            "Mounted at /content/gdrive\n"
          ],
          "name": "stdout"
        }
      ]
    },
    {
      "cell_type": "code",
      "metadata": {
        "id": "Kezli3sna_BN"
      },
      "source": [
        "import pandas as pd\n",
        "df = pd.read_csv('gdrive/My Drive/Colab Notebooks/ML/detecting fake news.csv')"
      ],
      "execution_count": null,
      "outputs": []
    },
    {
      "cell_type": "code",
      "metadata": {
        "colab": {
          "base_uri": "https://localhost:8080/",
          "height": 483
        },
        "id": "Wr3_T-nsbeqa",
        "outputId": "7fa48c97-8372-4551-8ed4-1950d1ee74c1"
      },
      "source": [
        "df.head(14)"
      ],
      "execution_count": null,
      "outputs": [
        {
          "output_type": "execute_result",
          "data": {
            "text/html": [
              "<div>\n",
              "<style scoped>\n",
              "    .dataframe tbody tr th:only-of-type {\n",
              "        vertical-align: middle;\n",
              "    }\n",
              "\n",
              "    .dataframe tbody tr th {\n",
              "        vertical-align: top;\n",
              "    }\n",
              "\n",
              "    .dataframe thead th {\n",
              "        text-align: right;\n",
              "    }\n",
              "</style>\n",
              "<table border=\"1\" class=\"dataframe\">\n",
              "  <thead>\n",
              "    <tr style=\"text-align: right;\">\n",
              "      <th></th>\n",
              "      <th>News</th>\n",
              "      <th>Catagory</th>\n",
              "    </tr>\n",
              "  </thead>\n",
              "  <tbody>\n",
              "    <tr>\n",
              "      <th>0</th>\n",
              "      <td>প্রতিবারের মত এবারেও দেশের পাব্লিক বিশ্ববিদ্যা...</td>\n",
              "      <td>False</td>\n",
              "    </tr>\n",
              "    <tr>\n",
              "      <th>1</th>\n",
              "      <td>অশান্তিতে নোবেল পেতে যাচ্ছেন অং সান সুচি- বছরে...</td>\n",
              "      <td>False</td>\n",
              "    </tr>\n",
              "    <tr>\n",
              "      <th>2</th>\n",
              "      <td>সিমের পর এবার শুরু হচ্ছে হাতের তালু নিবন্ধন কা...</td>\n",
              "      <td>False</td>\n",
              "    </tr>\n",
              "    <tr>\n",
              "      <th>3</th>\n",
              "      <td>১ নভে’ম্বর থেকে শি’ক্ষাপ্রতি’ষ্ঠান খো’লা!- ১ ন...</td>\n",
              "      <td>False</td>\n",
              "    </tr>\n",
              "    <tr>\n",
              "      <th>4</th>\n",
              "      <td>আর্মষ্ট্রংকে নুহাশ পল্লীতে দাফনের আবেদন শাওনের...</td>\n",
              "      <td>False</td>\n",
              "    </tr>\n",
              "    <tr>\n",
              "      <th>5</th>\n",
              "      <td>আর্মষ্ট্রং এর প্রতি মরনোত্তর ক্ষোভ প্রকাশ করলে...</td>\n",
              "      <td>False</td>\n",
              "    </tr>\n",
              "    <tr>\n",
              "      <th>6</th>\n",
              "      <td>কাশিমপুর-২ কারাগারের নাম পরিবর্তন করে “কাশেমঝু...</td>\n",
              "      <td>False</td>\n",
              "    </tr>\n",
              "    <tr>\n",
              "      <th>7</th>\n",
              "      <td>‘ফ্লেয়ার এন্ড লাবলি’ খেতাবে ভুষিত হলেন মির্জা ...</td>\n",
              "      <td>False</td>\n",
              "    </tr>\n",
              "    <tr>\n",
              "      <th>8</th>\n",
              "      <td>গেম অফ থ্রনসের ভক্ত ফখরুল- নিজেকে জনপ্রিয় টিভি...</td>\n",
              "      <td>False</td>\n",
              "    </tr>\n",
              "    <tr>\n",
              "      <th>9</th>\n",
              "      <td>জেনারেল জিয়াই দেশের প্রথম এভারেষ্ট জয়ী- ঐতিহাস...</td>\n",
              "      <td>False</td>\n",
              "    </tr>\n",
              "    <tr>\n",
              "      <th>10</th>\n",
              "      <td>২০১৩ সালের মধ্যে দ্বীতিয় নোবেলের দাবী ইউনূসের...</td>\n",
              "      <td>False</td>\n",
              "    </tr>\n",
              "    <tr>\n",
              "      <th>11</th>\n",
              "      <td>মালালার নোবেল জয়ে অসন্তুষ্ট ইউনূস- তালেবানের গ...</td>\n",
              "      <td>False</td>\n",
              "    </tr>\n",
              "    <tr>\n",
              "      <th>12</th>\n",
              "      <td>কুফামাষ্টার পুটুন আমায় সেলফী নির্যাতন করেছে: স...</td>\n",
              "      <td>False</td>\n",
              "    </tr>\n",
              "    <tr>\n",
              "      <th>13</th>\n",
              "      <td>সিদ্দিকুর নহে, গলফে আমি চেম্পিয়ন: এরশাদ- ইন্ডি...</td>\n",
              "      <td>False</td>\n",
              "    </tr>\n",
              "  </tbody>\n",
              "</table>\n",
              "</div>"
            ],
            "text/plain": [
              "                                                 News  Catagory\n",
              "0   প্রতিবারের মত এবারেও দেশের পাব্লিক বিশ্ববিদ্যা...     False\n",
              "1   অশান্তিতে নোবেল পেতে যাচ্ছেন অং সান সুচি- বছরে...     False\n",
              "2   সিমের পর এবার শুরু হচ্ছে হাতের তালু নিবন্ধন কা...     False\n",
              "3   ১ নভে’ম্বর থেকে শি’ক্ষাপ্রতি’ষ্ঠান খো’লা!- ১ ন...     False\n",
              "4   আর্মষ্ট্রংকে নুহাশ পল্লীতে দাফনের আবেদন শাওনের...     False\n",
              "5   আর্মষ্ট্রং এর প্রতি মরনোত্তর ক্ষোভ প্রকাশ করলে...     False\n",
              "6   কাশিমপুর-২ কারাগারের নাম পরিবর্তন করে “কাশেমঝু...     False\n",
              "7   ‘ফ্লেয়ার এন্ড লাবলি’ খেতাবে ভুষিত হলেন মির্জা ...     False\n",
              "8   গেম অফ থ্রনসের ভক্ত ফখরুল- নিজেকে জনপ্রিয় টিভি...     False\n",
              "9   জেনারেল জিয়াই দেশের প্রথম এভারেষ্ট জয়ী- ঐতিহাস...     False\n",
              "10  ২০১৩ সালের মধ্যে দ্বীতিয় নোবেলের দাবী ইউনূসের...     False\n",
              "11  মালালার নোবেল জয়ে অসন্তুষ্ট ইউনূস- তালেবানের গ...     False\n",
              "12  কুফামাষ্টার পুটুন আমায় সেলফী নির্যাতন করেছে: স...     False\n",
              "13  সিদ্দিকুর নহে, গলফে আমি চেম্পিয়ন: এরশাদ- ইন্ডি...     False"
            ]
          },
          "metadata": {
            "tags": []
          },
          "execution_count": 3
        }
      ]
    },
    {
      "cell_type": "code",
      "metadata": {
        "colab": {
          "base_uri": "https://localhost:8080/"
        },
        "id": "NybpMyr5b_4r",
        "outputId": "51baa46e-dbb5-4d06-dcdf-32d7a2f08f9c"
      },
      "source": [
        "df.shape"
      ],
      "execution_count": null,
      "outputs": [
        {
          "output_type": "execute_result",
          "data": {
            "text/plain": [
              "(309, 2)"
            ]
          },
          "metadata": {
            "tags": []
          },
          "execution_count": 4
        }
      ]
    },
    {
      "cell_type": "code",
      "metadata": {
        "colab": {
          "base_uri": "https://localhost:8080/"
        },
        "id": "3UCcoZmbcD42",
        "outputId": "b52c0684-4a5f-4cca-83e5-22eec9a5c715"
      },
      "source": [
        "df['News'].value_counts()"
      ],
      "execution_count": null,
      "outputs": [
        {
          "output_type": "execute_result",
          "data": {
            "text/plain": [
              "রোহিঙ্গা প্রত্যাবাসনে ভারতের সহায়তা প্রত্যাশা করেছেন স্পিকার ড. শিরীন শারমিন চৌধুরী। আজ রবিবার সকালে মালদ্বীপের রাজধানী মালেতে চতুর্থ সাউথ এশিয়ান স্পিকার্স সামিট এ অংশ গ্রহণকালে ভারতের লোকসভার স্পিকার ওম বিড়লার সঙ্গে এক সৌজন্য সাক্ষাতে তিনি এ আহ্বান জানান                                                                                                                                                                                                                                                                                                                                                                                                                                                                   4\n",
              "আলোচিত বরগুনায় রিফাত শরীফ হত্যা মামলায় ২৪ জনের বিরুদ্ধে আদালতে পুলিশ প্রতিবেদন দাখিল করা হয়েছে। আজ রবিবার (১ সেপ্টেম্বর) বরগুনার সিনিয়র জুডিশিয়াল ম্যাজিস্ট্রেট আদালতে এ চার্জশিট দাখিল করা হয়। এছাড়া বন্দুকযুদ্ধে নিহত হওয়ায় প্রধান অভিযুক্ত নয়ন বন্ডকে মামলা থেকে অব্যাহতি দেয়া হয়েছে। তবে চার্জশিটে এক নম্বর আসামি রিফাত ফরাজী ও ৭ নম্বর আসামি নিহত রিফাতের স্ত্রী মিন্নির নাম রয়েছে।                                                                                                                                                                                                                                                                                                                                        3\n",
              "ঢাকা দক্ষিণ সিটি করপোরেশনের (ডিএসসিসি) একটি বাজার ইজারা নেওয়ার জন্য দরপত্রে অংশ নিয়ে সর্বোচ্চ দরদাতা হয়েছেন ছাত্রলীগের বংশাল থানার সভাপতি ইমরান হোসেন ওরফে জন। সংগঠনের নেতারা বলছেন, গঠনতন্ত্র অনুযায়ী কোনো নেতা দরপত্রে অংশ নিতে পারেন না।                                                                                                                                                                                                                                                                                                                                                                                                                                                                                       3\n",
              "নাট্যসংঘ, কানাডার প্রথম প্রযোজনা হিসেবে টরন্টোয় মঞ্চে আসছে তিন মাতালের কাণ্ড। আগামী ১৪ সেপ্টেম্বর শনিবার সন্ধ্যা সাতটায় টরন্টো শহরের ১৬ ডোম অ্যাভিনিউ, বিসিএইচসি মিলনায়তনে নাটকটির প্রথম প্রদর্শনী অনুষ্ঠিত হবে                                                                                                                                                                                                                                                                                                                                                                                                                                                                                                                   2\n",
              "কলকাতার জন‌প্রিয় অ‌ভি‌নেতা সব্যসাচীর জন্ম‌দিন আস‌তে এখ‌নেও সাত দিন বা‌কি। ১৯৫৬ সা‌লের ৮ সে‌প্টেম্বর জন্মগ্রহণ ক‌রেন এই ভারতীয় অ‌ভি‌নেতা। মজার ব্যাপার হ‌লো তার এবা‌রের জন্ম‌দিনটা কাট‌বে বাংলা‌দে‌শে।                                                                                                                                                                                                                                                                                                                                                                                                                                                                                                                            2\n",
              "                                                                                                                                                                                                                                                                                                                                                                                                                                                                                                                                                                                                                                                                                                                                 ..\n",
              "আওয়ামী লীগ সাধারণ সম্পাদক বলেন, \"শুদ্ধি অভিযান কে, কীভাবে নিচ্ছেন, কার স্বার্থে আঘাত লাগছে জানি না, তবে দেশে-বিদেশে তা ব্যাপক প্রশংসা পাচ্ছে। খারাপ লোকজন দলে দরকার নেই। যারা সন্ত্রাস চাঁদাবাজ, টেন্ডারবাজ, তাদের দরকার নেই। যারা মাস্তান, তারাই অনুপ্রবেশকারী। যাদের ভোগের ইচ্ছে আছে, তাদের দরকার নেই                                                                                                                                                                                                                                                                                                                                                                                                                           1\n",
              "আমরা নিজেরা জেতার জন্যে নয় অপরকে জেতাবার জন্যেই ক্রিকেট খেলি:সাউথ আফ্রিকা!মার্করামকে একটা জীবন দিয়েছিলেন ট্রেন্ট বোল্ট, ডিপ ফাইন লেগে ক্যাচ ফেলে। তবে দ্বিতীয় জীবনে খুব একটা সুবিধা করতে পারেননি। গ্র্যান্ডহোমের কমিয়ে ফেলা লেংথে বল আকাশে তুলেছেন তিনি, ধরা পড়েছেন কাভারে। পিচের ধীরগতির আরেকটি শিকার ছিলেন মার্করাম।৫ম উইকেটে ফন ডার ডুসেন ও মিলার গড়েছেন ইনিংস সর্বোচ্চ ৭২ রানের জুটি। ফার্গুসনকে পরপর দুই চারের পর তার শর্ট বলে কাবু হয়েছেন মিলার। পরের ওভারে ফার্গুসনের শিকার অ্যান্ডাইল ফেহলুকওয়ায়োও। শেষ ওভারে ১৫ রান তুলে ডুসেন দক্ষিণ আফ্রিকাকে নিতে পেরেছেন ২৪১ রান পর্যন্ত।শেষ পর্যন্ত যথেষ্ট হতে পারতো সেটা। তবে ওই যে, এ দিনটাও নয় দক্ষিণ আফ্রিকার। এ দিনটাও কিউই-উৎসবের, চার বছর আগে ইডেন পার্কের ওই দিনের মতোই।    1\n",
              "উত্তরায় বাবা দিবসে বাবা সহ ধরা খেলেন ৩ যুবক,বাবা দিবস উদযাপন করার জন্যে ৩ যুবক বাবা নিয়ে ঘুরতে বের হলে পুলিশ হাতে নাতে তাদের ধরে ফেলেন। এ বিষয়ে পুলিশ কোন কথা বলতে রাজি না হলেও বালের কণ্ঠের সাংবাদিককে আসামীদের পরিবার থেকে ফোন দিয়ে জানানো হয় ,‘চকলেট দিবসে চকলেট বের হলে অপরাধ নয়,রোজ ডে তে গোলাপ নিয়ে বের হলে অপরাধ নয় তাহলে কেনো বাবা দিবসে বাবা নিয়ে বের হলে তা আইনের চোখে অপরাধ বলে গণ্য হয়? এর উত্তর কে দিবে?’                                                                                                                                                                                                                                                                                                            1\n",
              "জাতিসংঘের হিসাবে, বিশ্বের প্রতিটি ২০জন মেয়ে শিশু বা নারীর মধ্যে একজনের খৎনা করা হয়ে থাকে, যাকে ইংরেজিতে বলা হয় এফিএম বা ফিমেল জেনিটাল মিউটিলেশন।বর্তমান বিশ্বে এরকম বিশ কোটি নারী রয়েছেন, যাদের আংশিক অথবা পুরো খৎনা অর্থাৎ যৌনাঙ্গ কেটে ফেলা হয়েছে।নারীদের এরকম যৌনাঙ্গ কর্তন বন্ধের আহবান জানিয়ে প্রতিবছরের ৬ই ফেব্রুয়ারি এ বিষয়ে 'জিরো টলারেন্স' দিবস হিসাবে পালন করে জাতিসংঘ।                                                                                                                                                                                                                                                                                                                                         1\n",
              "আত্মঘাতী বোমারু জ্যাকেট পরে ভারতের প্রধানমন্ত্রী নরেন্দ্র মোদীর উদ্দেশ্যে হুঁশিয়ারি দিয়েছেন পাকিস্তানের পপ গায়িকা রাবি পিরজাদা। এরপরই সোশ্যাল মিডিয়ায় ট্রোলড হতে থাকেন তিনি। মাসখানেক আগে একবার টুইটারে সাপের ভিডিও আপলোড করে মোদীকে হুমকি দিয়েছিলেন।                                                                                                                                                                                                                                                                                                                                                                                                                                                                             1\n",
              "Name: News, Length: 284, dtype: int64"
            ]
          },
          "metadata": {
            "tags": []
          },
          "execution_count": 5
        }
      ]
    },
    {
      "cell_type": "code",
      "metadata": {
        "colab": {
          "base_uri": "https://localhost:8080/"
        },
        "id": "qEy3D6WxcPor",
        "outputId": "38af896a-1197-4acb-a113-6286fc2a4c14"
      },
      "source": [
        "df.isnull().sum()"
      ],
      "execution_count": null,
      "outputs": [
        {
          "output_type": "execute_result",
          "data": {
            "text/plain": [
              "News        0\n",
              "Catagory    0\n",
              "dtype: int64"
            ]
          },
          "metadata": {
            "tags": []
          },
          "execution_count": 6
        }
      ]
    },
    {
      "cell_type": "code",
      "metadata": {
        "id": "-qZ5AjM-c7rm"
      },
      "source": [
        "df.Catagory = df.Catagory.replace({True: 1, False: 0})"
      ],
      "execution_count": null,
      "outputs": []
    },
    {
      "cell_type": "code",
      "metadata": {
        "colab": {
          "base_uri": "https://localhost:8080/"
        },
        "id": "1_RlYn-RdBog",
        "outputId": "f3c596e4-8fe2-4741-8a05-ead83f587dec"
      },
      "source": [
        "df['Catagory']"
      ],
      "execution_count": null,
      "outputs": [
        {
          "output_type": "execute_result",
          "data": {
            "text/plain": [
              "0      0\n",
              "1      0\n",
              "2      0\n",
              "3      0\n",
              "4      0\n",
              "      ..\n",
              "304    1\n",
              "305    1\n",
              "306    1\n",
              "307    1\n",
              "308    1\n",
              "Name: Catagory, Length: 309, dtype: int64"
            ]
          },
          "metadata": {
            "tags": []
          },
          "execution_count": 8
        }
      ]
    },
    {
      "cell_type": "code",
      "metadata": {
        "colab": {
          "base_uri": "https://localhost:8080/",
          "height": 419
        },
        "id": "Sd_qCQ2jcjTv",
        "outputId": "3e8775d3-ce3b-49f7-9d42-b6a344373529"
      },
      "source": [
        "df.dropna()"
      ],
      "execution_count": null,
      "outputs": [
        {
          "output_type": "execute_result",
          "data": {
            "text/html": [
              "<div>\n",
              "<style scoped>\n",
              "    .dataframe tbody tr th:only-of-type {\n",
              "        vertical-align: middle;\n",
              "    }\n",
              "\n",
              "    .dataframe tbody tr th {\n",
              "        vertical-align: top;\n",
              "    }\n",
              "\n",
              "    .dataframe thead th {\n",
              "        text-align: right;\n",
              "    }\n",
              "</style>\n",
              "<table border=\"1\" class=\"dataframe\">\n",
              "  <thead>\n",
              "    <tr style=\"text-align: right;\">\n",
              "      <th></th>\n",
              "      <th>News</th>\n",
              "      <th>Catagory</th>\n",
              "    </tr>\n",
              "  </thead>\n",
              "  <tbody>\n",
              "    <tr>\n",
              "      <th>0</th>\n",
              "      <td>প্রতিবারের মত এবারেও দেশের পাব্লিক বিশ্ববিদ্যা...</td>\n",
              "      <td>0</td>\n",
              "    </tr>\n",
              "    <tr>\n",
              "      <th>1</th>\n",
              "      <td>অশান্তিতে নোবেল পেতে যাচ্ছেন অং সান সুচি- বছরে...</td>\n",
              "      <td>0</td>\n",
              "    </tr>\n",
              "    <tr>\n",
              "      <th>2</th>\n",
              "      <td>সিমের পর এবার শুরু হচ্ছে হাতের তালু নিবন্ধন কা...</td>\n",
              "      <td>0</td>\n",
              "    </tr>\n",
              "    <tr>\n",
              "      <th>3</th>\n",
              "      <td>১ নভে’ম্বর থেকে শি’ক্ষাপ্রতি’ষ্ঠান খো’লা!- ১ ন...</td>\n",
              "      <td>0</td>\n",
              "    </tr>\n",
              "    <tr>\n",
              "      <th>4</th>\n",
              "      <td>আর্মষ্ট্রংকে নুহাশ পল্লীতে দাফনের আবেদন শাওনের...</td>\n",
              "      <td>0</td>\n",
              "    </tr>\n",
              "    <tr>\n",
              "      <th>...</th>\n",
              "      <td>...</td>\n",
              "      <td>...</td>\n",
              "    </tr>\n",
              "    <tr>\n",
              "      <th>304</th>\n",
              "      <td>ফেসবুক, ইমেইল বা গুগল অ্যাকাউন্টের পাসওয়ার্ড ...</td>\n",
              "      <td>1</td>\n",
              "    </tr>\n",
              "    <tr>\n",
              "      <th>305</th>\n",
              "      <td>অসংখ্য অশ্লীল ছবি ও ভিডিওতে নারীদের মাথা জুড়ে ...</td>\n",
              "      <td>1</td>\n",
              "    </tr>\n",
              "    <tr>\n",
              "      <th>306</th>\n",
              "      <td>চীনে উইঘুর সম্প্রদায়ের ওপর নিপীড়নের অভিযোগে ২...</td>\n",
              "      <td>1</td>\n",
              "    </tr>\n",
              "    <tr>\n",
              "      <th>307</th>\n",
              "      <td>এই ওয়েবপেজে বেনামে করা ১৭৭টি অভিযোগ তালিকাভুক্...</td>\n",
              "      <td>1</td>\n",
              "    </tr>\n",
              "    <tr>\n",
              "      <th>308</th>\n",
              "      <td>ফেসবুক আইডি হ্যাক করে অর্থ হাতিয়ে নেওয়ার অভীযো...</td>\n",
              "      <td>1</td>\n",
              "    </tr>\n",
              "  </tbody>\n",
              "</table>\n",
              "<p>309 rows × 2 columns</p>\n",
              "</div>"
            ],
            "text/plain": [
              "                                                  News  Catagory\n",
              "0    প্রতিবারের মত এবারেও দেশের পাব্লিক বিশ্ববিদ্যা...         0\n",
              "1    অশান্তিতে নোবেল পেতে যাচ্ছেন অং সান সুচি- বছরে...         0\n",
              "2    সিমের পর এবার শুরু হচ্ছে হাতের তালু নিবন্ধন কা...         0\n",
              "3    ১ নভে’ম্বর থেকে শি’ক্ষাপ্রতি’ষ্ঠান খো’লা!- ১ ন...         0\n",
              "4    আর্মষ্ট্রংকে নুহাশ পল্লীতে দাফনের আবেদন শাওনের...         0\n",
              "..                                                 ...       ...\n",
              "304  ফেসবুক, ইমেইল বা গুগল অ্যাকাউন্টের পাসওয়ার্ড ...         1\n",
              "305  অসংখ্য অশ্লীল ছবি ও ভিডিওতে নারীদের মাথা জুড়ে ...         1\n",
              "306  চীনে উইঘুর সম্প্রদায়ের ওপর নিপীড়নের অভিযোগে ২...         1\n",
              "307  এই ওয়েবপেজে বেনামে করা ১৭৭টি অভিযোগ তালিকাভুক্...         1\n",
              "308  ফেসবুক আইডি হ্যাক করে অর্থ হাতিয়ে নেওয়ার অভীযো...         1\n",
              "\n",
              "[309 rows x 2 columns]"
            ]
          },
          "metadata": {
            "tags": []
          },
          "execution_count": 9
        }
      ]
    },
    {
      "cell_type": "code",
      "metadata": {
        "colab": {
          "base_uri": "https://localhost:8080/"
        },
        "id": "ZwWDIB3Yc_8b",
        "outputId": "87eb9c6a-3bf2-49dd-fb2f-941d97bf6625"
      },
      "source": [
        "for i in range(5):\n",
        "    print(\"News:\",i+1)\n",
        "    print(\"Details:\",df.News[i])"
      ],
      "execution_count": null,
      "outputs": [
        {
          "output_type": "stream",
          "text": [
            "News: 1\n",
            "Details: প্রতিবারের মত এবারেও দেশের পাব্লিক বিশ্ববিদ্যালয় গুলোর ভর্তি পরীক্ষায় এসেছে বেশ কিছু পরিবর্তন। তার মধ্যে ঢাবিতে লিখিত পরীক্ষাসহ কোটা ব্যবস্থায় এসেছে কিঞ্চিত পরিবর্তন।সম্প্রতি দেশের টিকটক কমিউনিটি একটি কোটার জন্য বিশেষ দাবি জানায় বিশ্ববিদ্যালয়গুলোতে। তাদের দাবি পূরণ করতে বিশ্ববিদ্যালয় বোর্ড একটি আলোচনার আয়োজন করেন এবং তার প্রেক্ষিতে তারা জানান যে, \"টিকটক ব্যবহারকারীদের কোন কোটার আওতায় আনা সম্ভব নয় তবে তারা যদি চায় প্রতিবন্ধী কোটায় আবেদন করতে পারে।\"\n",
            "News: 2\n",
            "Details: অশান্তিতে নোবেল পেতে যাচ্ছেন অং সান সুচি- বছরের অক্টোবর মাসে ঘোষণা করা হয় নোবেল পুরস্কার বিজয়ীদের নাম। এ বছর চিকিৎসা, পদার্থ, রসায়ন ও সাহিত্য নোবেল পুরস্কার ঘোষণা হয়ে গেছে। জানা হয়ে গেছে কারা পুরস্কার পেলেন। বাকি আছে শান্তি ও অর্থনীতিতে পুরস্কার বিজয়ীদের নাম ঘোষণার। বাংলাদেশ সময় শুক্রবার বিকেলে (বিকেল চারটায়) নরওয়ে থেকে ঘোষণা করা হবে শান্তিতে নোবেল পুরস্কারপ্রাপ্ত ব্যক্তি বা প্রতিষ্ঠানের নাম। তবে এবছর ঘটতে যাচ্ছে নতুন চমক। নোবেল কমিটি সিদ্ধান্ত নিয়েছে এবছর থেকে তারা অশান্তিতেও নোবেল পুরষ্কার দিবেন। আর এই তালিকায় অং সান সুচি আছেন শীর্ষে। জানা যায় তার প্রতিদ্বন্দী হিসেবে নরেন্দ্র মোদীও আছেন। \n",
            "News: 3\n",
            "Details: সিমের পর এবার শুরু হচ্ছে হাতের তালু নিবন্ধন কার্যক্রম - বায়োমেট্টিক পদ্ধতিতে আঙ্গুলের ছাপ নিয়ে সিম নিবন্ধনের পর এবার শুরু হতে যাচ্ছে হাতের তালু নিবন্ধন কার্যক্রম।\r\n",
            "ঘরে বসে ইন্টারনেট থেকে যুবসমাজ প্রতিনিয়ত খারাপ খারাপ দৃশ্য দেখছে। যার ফলে বিলীন হয়ে যাচ্ছে তাদের হাতের রেখা। মূলত এ কারণেই হাতের তালু নিবন্ধন করা হবে। এ প্রকল্পটি বাস্তবায়ন করা হলে কাগজ-কলমে সিগনেচারের বদলে হাতের তালুর ছাপ দিয়েই ব্যাংকিং সহ অন্যান্য সব গুরুত্বপূর্ণ লেনদেন ও যাবতীয় নথিপত্র মূল্যায়ন কার্যগুলো সম্পন্ন করা হবে। হাতের ছাপ বিলম্ব হবার ঝামেলা এড়াতে যুবসমাজ ভয়ে হস্তশিল্প থেকে বিরত থাকবে, এমনটা ভেবেই নেয়া হয়েছে প্রশংসনীয় এই উদ্যোগ।\r\n",
            "তথ্য মন্ত্রনালয়ের উর্দ্ধতন কর্মকর্তা মোতাহার হোসেন প্রথম আলুকে ফোন করে হাতের তালু নিবন্ধনের ব্যাপারটি নিশ্চিত করেন। এসময় তিনি বলেন, \"তরুণ সমাজ হস্তশিল্পকে কুটিরশিল্প বানিয়ে ফেলেছে। হাতের তালু নিবন্ধনের এই উদ্যোগটি বাস্তবায়ন করা হলে একটি সুস্থ্যসবল জাতি পাওয়া যাবে\", এমনটাই আশা করছেন মোতাহার।\n",
            "News: 4\n",
            "Details: ১ নভে’ম্বর থেকে শি’ক্ষাপ্রতি’ষ্ঠান খো’লা!- ১ নভে’ম্বর থেকে স্বা’স্থ্য’বিধি মেনে কি’ন্ডারগা’র্টেন স্কুল ও ক’লে’জগুলো খুলে দেয়ার দাবি জানি’য়ে’ছে কি’ন্ডা’রগার্টেন স্কুলে’র শি’ক্ষকরা। সোম’বার জাতীয় প্রে”সক্লাবে” অনুষ্ঠিত এক সংবাদ স’ম্মেলনের মাধ্য”মে তারা এ দাবি জানান।একইসাথে কি’ন্ডার’গার্টেন স্কু’লগু’লোর জন্য একটি পৃ’থক বোর্ড বা একটি রেগু’লেটরি ক’মিশ’ন গঠনের দাবি জানি’য়েছে তারা। বঙ্গবন্ধু কি’ন্ডারগা’র্টেন স্কুল ও ক’লেজ পরি’ষদের ব্যানা’রে এ সংবাদ সম্মে’লন অ’নুষ্ঠিত হয়। তাছাড়া সা’দেশ ব্যাপী উপজে’লা ও জে’লা প্রশাস’নের মাধ্যমে প্রধা’নমন্ত্রী’র কাছে এ দাবিতে স্মা’রক’লিপি দেয়া হয়েছে বলেও সংবাদ স’ম্মেলনে জা”নান শি’ক্ষকরা।\n",
            "News: 5\n",
            "Details: আর্মষ্ট্রংকে নুহাশ পল্লীতে দাফনের আবেদন শাওনের- মানব জাতির ইতিহাসে প্রথম চন্দ্র বিজয়ী নভচারী মোহাম্মদ লাল আর্মষ্ট্রংকে নুহাশ পল্লীতে দাফনের ফরিয়াদ জানিয়েছেন বাংলাদেশের ইতিহাসের শ্রেষ্ঠ সাহিত্যিক হুমায়ূন আহমেদের বিধবা স্ত্রী মেহের আফরোজ শাওন।\r\n",
            "হৃদপিন্ডে অস্ত্রপচারের পর সৃষ্ঠ জটিলতায় গতকাল বাদ ঈশায় মোহাম্মদ লাল আর্মষ্ট্রং এর মৃত্যুর পর আজ এক সংবাদ সম্মেলনে শাওন এই ফরিয়াদ জানান। শাওন সংবাদ সম্মেলনে বলেন, মোহাম্মদ লালকে অন্য কোথাও কবর দিলে সে একা একা ভয় পাবে। তাকে নুহাশ পল্লীতে দাফন করা হোক।\r\n",
            "শাওন আবেগঘন কণ্ঠে বলেন, ওনাকে আর কষ্ট দিয়েন না।\r\n",
            "মোহাম্মদ লাল আর্মষ্ট্রং এর মৃত্যুতে শোক প্রকাশ করে নওমুসলিম বিজ্ঞানী আল্লামা আবদুল হকিং ও হলিউডের প্রাক্তন সুপার ষ্টার আঞ্জুমান আরা জলি বলেছেন, লালকে নুহাশ পল্লীতেই দাফন করা উচিত।\n"
          ],
          "name": "stdout"
        }
      ]
    },
    {
      "cell_type": "code",
      "metadata": {
        "id": "CgezihtTcpIm"
      },
      "source": [
        "import matplotlib.pyplot as plt\n",
        "import seaborn as sns\n",
        "%matplotlib inline"
      ],
      "execution_count": null,
      "outputs": []
    },
    {
      "cell_type": "code",
      "metadata": {
        "colab": {
          "base_uri": "https://localhost:8080/",
          "height": 282
        },
        "id": "5RT72mXkdmo6",
        "outputId": "c336dc97-9085-4b1f-d907-f59bd5d5a107"
      },
      "source": [
        "df['Catagory'].plot(kind='hist')"
      ],
      "execution_count": null,
      "outputs": [
        {
          "output_type": "execute_result",
          "data": {
            "text/plain": [
              "<matplotlib.axes._subplots.AxesSubplot at 0x7fc1d4d815d0>"
            ]
          },
          "metadata": {
            "tags": []
          },
          "execution_count": 12
        },
        {
          "output_type": "display_data",
          "data": {
            "image/png": "[encoded data removed]",
            "text/plain": [
              "<Figure size 432x288 with 1 Axes>"
            ]
          },
          "metadata": {
            "tags": [],
            "needs_background": "light"
          }
        }
      ]
    },
    {
      "cell_type": "code",
      "metadata": {
        "colab": {
          "base_uri": "https://localhost:8080/",
          "height": 359
        },
        "id": "K8gjLV0Cdtd2",
        "outputId": "ed8b1117-041a-4819-960e-2405838a14ad"
      },
      "source": [
        "df['length'] = df['News'].str.split().apply(len)\n",
        "df.head(10)"
      ],
      "execution_count": null,
      "outputs": [
        {
          "output_type": "execute_result",
          "data": {
            "text/html": [
              "<div>\n",
              "<style scoped>\n",
              "    .dataframe tbody tr th:only-of-type {\n",
              "        vertical-align: middle;\n",
              "    }\n",
              "\n",
              "    .dataframe tbody tr th {\n",
              "        vertical-align: top;\n",
              "    }\n",
              "\n",
              "    .dataframe thead th {\n",
              "        text-align: right;\n",
              "    }\n",
              "</style>\n",
              "<table border=\"1\" class=\"dataframe\">\n",
              "  <thead>\n",
              "    <tr style=\"text-align: right;\">\n",
              "      <th></th>\n",
              "      <th>News</th>\n",
              "      <th>Catagory</th>\n",
              "      <th>length</th>\n",
              "    </tr>\n",
              "  </thead>\n",
              "  <tbody>\n",
              "    <tr>\n",
              "      <th>0</th>\n",
              "      <td>প্রতিবারের মত এবারেও দেশের পাব্লিক বিশ্ববিদ্যা...</td>\n",
              "      <td>0</td>\n",
              "      <td>66</td>\n",
              "    </tr>\n",
              "    <tr>\n",
              "      <th>1</th>\n",
              "      <td>অশান্তিতে নোবেল পেতে যাচ্ছেন অং সান সুচি- বছরে...</td>\n",
              "      <td>0</td>\n",
              "      <td>95</td>\n",
              "    </tr>\n",
              "    <tr>\n",
              "      <th>2</th>\n",
              "      <td>সিমের পর এবার শুরু হচ্ছে হাতের তালু নিবন্ধন কা...</td>\n",
              "      <td>0</td>\n",
              "      <td>139</td>\n",
              "    </tr>\n",
              "    <tr>\n",
              "      <th>3</th>\n",
              "      <td>১ নভে’ম্বর থেকে শি’ক্ষাপ্রতি’ষ্ঠান খো’লা!- ১ ন...</td>\n",
              "      <td>0</td>\n",
              "      <td>79</td>\n",
              "    </tr>\n",
              "    <tr>\n",
              "      <th>4</th>\n",
              "      <td>আর্মষ্ট্রংকে নুহাশ পল্লীতে দাফনের আবেদন শাওনের...</td>\n",
              "      <td>0</td>\n",
              "      <td>112</td>\n",
              "    </tr>\n",
              "    <tr>\n",
              "      <th>5</th>\n",
              "      <td>আর্মষ্ট্রং এর প্রতি মরনোত্তর ক্ষোভ প্রকাশ করলে...</td>\n",
              "      <td>0</td>\n",
              "      <td>266</td>\n",
              "    </tr>\n",
              "    <tr>\n",
              "      <th>6</th>\n",
              "      <td>কাশিমপুর-২ কারাগারের নাম পরিবর্তন করে “কাশেমঝু...</td>\n",
              "      <td>0</td>\n",
              "      <td>94</td>\n",
              "    </tr>\n",
              "    <tr>\n",
              "      <th>7</th>\n",
              "      <td>‘ফ্লেয়ার এন্ড লাবলি’ খেতাবে ভুষিত হলেন মির্জা ...</td>\n",
              "      <td>0</td>\n",
              "      <td>152</td>\n",
              "    </tr>\n",
              "    <tr>\n",
              "      <th>8</th>\n",
              "      <td>গেম অফ থ্রনসের ভক্ত ফখরুল- নিজেকে জনপ্রিয় টিভি...</td>\n",
              "      <td>0</td>\n",
              "      <td>162</td>\n",
              "    </tr>\n",
              "    <tr>\n",
              "      <th>9</th>\n",
              "      <td>জেনারেল জিয়াই দেশের প্রথম এভারেষ্ট জয়ী- ঐতিহাস...</td>\n",
              "      <td>0</td>\n",
              "      <td>102</td>\n",
              "    </tr>\n",
              "  </tbody>\n",
              "</table>\n",
              "</div>"
            ],
            "text/plain": [
              "                                                News  Catagory  length\n",
              "0  প্রতিবারের মত এবারেও দেশের পাব্লিক বিশ্ববিদ্যা...         0      66\n",
              "1  অশান্তিতে নোবেল পেতে যাচ্ছেন অং সান সুচি- বছরে...         0      95\n",
              "2  সিমের পর এবার শুরু হচ্ছে হাতের তালু নিবন্ধন কা...         0     139\n",
              "3  ১ নভে’ম্বর থেকে শি’ক্ষাপ্রতি’ষ্ঠান খো’লা!- ১ ন...         0      79\n",
              "4  আর্মষ্ট্রংকে নুহাশ পল্লীতে দাফনের আবেদন শাওনের...         0     112\n",
              "5  আর্মষ্ট্রং এর প্রতি মরনোত্তর ক্ষোভ প্রকাশ করলে...         0     266\n",
              "6  কাশিমপুর-২ কারাগারের নাম পরিবর্তন করে “কাশেমঝু...         0      94\n",
              "7  ‘ফ্লেয়ার এন্ড লাবলি’ খেতাবে ভুষিত হলেন মির্জা ...         0     152\n",
              "8  গেম অফ থ্রনসের ভক্ত ফখরুল- নিজেকে জনপ্রিয় টিভি...         0     162\n",
              "9  জেনারেল জিয়াই দেশের প্রথম এভারেষ্ট জয়ী- ঐতিহাস...         0     102"
            ]
          },
          "metadata": {
            "tags": []
          },
          "execution_count": 13
        }
      ]
    },
    {
      "cell_type": "code",
      "metadata": {
        "colab": {
          "base_uri": "https://localhost:8080/",
          "height": 394
        },
        "id": "gf0GeKgHe3Bb",
        "outputId": "a68b73e9-ff50-49a0-8876-64d6019aa585"
      },
      "source": [
        "df.hist(column='length', by='Catagory', bins=450,figsize=(10,5))"
      ],
      "execution_count": null,
      "outputs": [
        {
          "output_type": "execute_result",
          "data": {
            "text/plain": [
              "array([<matplotlib.axes._subplots.AxesSubplot object at 0x7fc1d4d03950>,\n",
              "       <matplotlib.axes._subplots.AxesSubplot object at 0x7fc1d47dead0>],\n",
              "      dtype=object)"
            ]
          },
          "metadata": {
            "tags": []
          },
          "execution_count": 14
        },
        {
          "output_type": "display_data",
          "data": {
            "image/png": "[encoded data removed]",
            "text/plain": [
              "<Figure size 720x360 with 2 Axes>"
            ]
          },
          "metadata": {
            "tags": [],
            "needs_background": "light"
          }
        }
      ]
    },
    {
      "cell_type": "code",
      "metadata": {
        "colab": {
          "base_uri": "https://localhost:8080/"
        },
        "id": "3tI8KGsvfErp",
        "outputId": "a99546bb-82b2-4f6d-845d-c4b278129bb0"
      },
      "source": [
        "df.length.describe()"
      ],
      "execution_count": null,
      "outputs": [
        {
          "output_type": "execute_result",
          "data": {
            "text/plain": [
              "count    309.000000\n",
              "mean      70.100324\n",
              "std       51.318078\n",
              "min        2.000000\n",
              "25%       37.000000\n",
              "50%       57.000000\n",
              "75%       88.000000\n",
              "max      337.000000\n",
              "Name: length, dtype: float64"
            ]
          },
          "metadata": {
            "tags": []
          },
          "execution_count": 15
        }
      ]
    },
    {
      "cell_type": "code",
      "metadata": {
        "id": "Qr4eQhOG5xSc"
      },
      "source": [
        "import string \n",
        "def remove_punc(s):\n",
        "    table = str.maketrans({key: None for key in string.punctuation})\n",
        "    return s.translate(table)"
      ],
      "execution_count": null,
      "outputs": []
    },
    {
      "cell_type": "code",
      "metadata": {
        "colab": {
          "base_uri": "https://localhost:8080/"
        },
        "id": "4E1H9CyE6FjU",
        "outputId": "c5345390-47c4-4427-ac5b-7ded80d283d4"
      },
      "source": [
        "x = df['News'].fillna(' ')\n",
        "y = df['Catagory']\n",
        "print(x.head())\n",
        "print(y.head())"
      ],
      "execution_count": null,
      "outputs": [
        {
          "output_type": "stream",
          "text": [
            "0    প্রতিবারের মত এবারেও দেশের পাব্লিক বিশ্ববিদ্যা...\n",
            "1    অশান্তিতে নোবেল পেতে যাচ্ছেন অং সান সুচি- বছরে...\n",
            "2    সিমের পর এবার শুরু হচ্ছে হাতের তালু নিবন্ধন কা...\n",
            "3    ১ নভে’ম্বর থেকে শি’ক্ষাপ্রতি’ষ্ঠান খো’লা!- ১ ন...\n",
            "4    আর্মষ্ট্রংকে নুহাশ পল্লীতে দাফনের আবেদন শাওনের...\n",
            "Name: News, dtype: object\n",
            "0    0\n",
            "1    0\n",
            "2    0\n",
            "3    0\n",
            "4    0\n",
            "Name: Catagory, dtype: int64\n"
          ],
          "name": "stdout"
        }
      ]
    },
    {
      "cell_type": "code",
      "metadata": {
        "colab": {
          "base_uri": "https://localhost:8080/"
        },
        "id": "3Oq-JBGl6Fk3",
        "outputId": "461eec66-5691-49d6-ec13-d80d2ffbde11"
      },
      "source": [
        "x = df['News'].apply(remove_punc)\n",
        "x.shape"
      ],
      "execution_count": null,
      "outputs": [
        {
          "output_type": "execute_result",
          "data": {
            "text/plain": [
              "(309,)"
            ]
          },
          "metadata": {
            "tags": []
          },
          "execution_count": 18
        }
      ]
    },
    {
      "cell_type": "code",
      "metadata": {
        "id": "wZXv1Ueb6ZLa"
      },
      "source": [
        "contractions = { \n",
        "\"বি.দ্র \": \"বিশেষ দ্রষ্টব্য\",\n",
        "\"ড.\": \"ডক্টর\",\n",
        "\"ডা.\": \"ডাক্তার\",\n",
        "\"ইঞ্জি:\": \"ইঞ্জিনিয়ার\",\n",
        "\"রেজি:\": \"রেজিস্ট্রেশন\",\n",
        "\"মি.\": \"মিস্টার\",\n",
        "\"মু.\": \"মুহাম্মদ\",\n",
        "\"মো.\": \"মোহাম্মদ\",\n",
        "}"
      ],
      "execution_count": null,
      "outputs": []
    },
    {
      "cell_type": "code",
      "metadata": {
        "id": "U3MQorCa6uyc"
      },
      "source": [
        "import re\n",
        "import string\n",
        "from collections import Counter\n",
        "vocab = Counter()\n",
        "def clean_text(x,remove_stopwords = False):\n",
        "    if True:\n",
        "        new_text = []\n",
        "        for word in x:\n",
        "            if word in contractions:\n",
        "                new_text.append(contractions[word])\n",
        "            else:\n",
        "                new_text.append(word)\n",
        "        x = \" \".join(new_text)\n",
        "    # Format words and remove unwanted characters\n",
        "    whitespace = re.compile(u\"[\\s\\u0020\\u00a0\\u1680\\u180e\\u202f\\u205f\\u3000\\u2000-\\u200a]+\", re.UNICODE)\n",
        "    bangla_digits = u\"[\\u09E6\\u09E7\\u09E8\\u09E9\\u09EA\\u09EB\\u09EC\\u09ED\\u09EE\\u09EF]+\"\n",
        "    english_chars = u\"[a-zA-Z0-9]\"\n",
        "    punc = u\"[(),$%^&*+={}\\[\\]:\\\"|\\'\\~`<>/,¦!?½£¶¼©⅐⅑⅒⅓⅔⅕⅖⅗⅘⅙⅚⅛⅜⅝⅞⅟↉¤¿º;-]+\"\n",
        "    bangla_fullstop = u\"\\u0964\"     #bangla fullstop(dari)\n",
        "    punctSeq   = u\"['\\\"“”‘’]+|[.?!,…]+|[:;]+\"\n",
        "    \n",
        "    x = re.sub(bangla_digits, \" \", x)\n",
        "    x = re.sub(punc, \" \", x)\n",
        "    x = re.sub(english_chars, \" \", x)\n",
        "    x = re.sub(bangla_fullstop, \" \", x)\n",
        "    x = re.sub(punctSeq, \" \", x)\n",
        "    x = whitespace.sub(\" \", x).strip()\n",
        "    \n",
        "    x = re.sub(r'https?:\\/\\/.*[\\r\\n]*', '', x, flags=re.MULTILINE)\n",
        "    x = re.sub(r'\\<a href', ' ', x)\n",
        "    x = re.sub(r'&amp;‘:‘ ’', '', x) \n",
        "    x = re.sub(r'[_\"\\-;%()|+&=*%.,!?:#$@\\[\\]/]। ,', ' ', x)\n",
        "    x = re.sub(r'<br />', ' ', x)\n",
        "    x = re.sub(r'\\'', ' ', x)\n",
        "    x = re.sub(r\"[\\@$#%~+-\\.\\'।\\\"]\",\" \",x)\n",
        "    x = re.sub(r\"(?m)^\\s+\", \"\", x)\n",
        "    x = re.sub(\"[()]\",\"\",x)\n",
        "    x = re.sub(\"[‘’]\",\"\",x)\n",
        "    x = re.sub(\"[!]\",\"\",x)\n",
        "    x = re.sub(\"[/]\",\"\",x)\n",
        "    x = re.sub(\"[:]\",\"\",x)\n",
        "    x = re.sub('\\ |\\?|\\.|\\!|\\/|\\;|\\:', ' ',x)\n",
        "    x = x.strip(\"/\")\n",
        "    \n",
        "    if remove_stopwords:\n",
        "        k = []\n",
        "        with open('gdrive/My Drive/Colab Notebooks/Banglastopword.txt', 'r',encoding=\"utf-8\") as f:\n",
        "            for word in f:\n",
        "                word = word.split()\n",
        "                k.append(word[0])\n",
        "            x = [t for t in x if t not in k]\n",
        "            x = \"\".join(x)\n",
        "   \n",
        " \n",
        "    return x"
      ],
      "execution_count": null,
      "outputs": []
    },
    {
      "cell_type": "code",
      "metadata": {
        "id": "uzO_b7kdBARL"
      },
      "source": [
        "import matplotlib.pyplot as plt\n",
        "import seaborn as sns\n",
        "import nltk\n",
        "from nltk.corpus import stopwords\n",
        "import string\n",
        "import math\n",
        "from sklearn.feature_extraction.text import CountVectorizer\n",
        "from sklearn.model_selection import train_test_split, cross_val_score\n",
        "from sklearn.metrics import classification_report\n",
        "from sklearn.metrics import confusion_matrix, accuracy_score, roc_auc_score, roc_curve\n",
        "from sklearn.model_selection import GridSearchCV\n",
        "from sklearn import metrics\n",
        "%matplotlib inline"
      ],
      "execution_count": null,
      "outputs": []
    },
    {
      "cell_type": "code",
      "metadata": {
        "id": "CUy7C-SqBHpG"
      },
      "source": [
        "vocab = CountVectorizer(analyzer=clean_text,encoding='utf-8').fit(x)"
      ],
      "execution_count": null,
      "outputs": []
    },
    {
      "cell_type": "code",
      "metadata": {
        "colab": {
          "base_uri": "https://localhost:8080/"
        },
        "id": "meeTqreUB-Pu",
        "outputId": "83a15c95-93b4-4833-c7ec-6db6bf0cafa9"
      },
      "source": [
        "print(len(vocab.vocabulary_))"
      ],
      "execution_count": null,
      "outputs": [
        {
          "output_type": "stream",
          "text": [
            "65\n"
          ],
          "name": "stdout"
        }
      ]
    },
    {
      "cell_type": "code",
      "metadata": {
        "colab": {
          "base_uri": "https://localhost:8080/"
        },
        "id": "hVwVNw66CBuw",
        "outputId": "53838ba3-07cb-4d56-b911-4e176260993b"
      },
      "source": [
        "r0 = x[0]\n",
        "print(r0)"
      ],
      "execution_count": null,
      "outputs": [
        {
          "output_type": "stream",
          "text": [
            "প্রতিবারের মত এবারেও দেশের পাব্লিক বিশ্ববিদ্যালয় গুলোর ভর্তি পরীক্ষায় এসেছে বেশ কিছু পরিবর্তন। তার মধ্যে ঢাবিতে লিখিত পরীক্ষাসহ কোটা ব্যবস্থায় এসেছে কিঞ্চিত পরিবর্তন।সম্প্রতি দেশের টিকটক কমিউনিটি একটি কোটার জন্য বিশেষ দাবি জানায় বিশ্ববিদ্যালয়গুলোতে। তাদের দাবি পূরণ করতে বিশ্ববিদ্যালয় বোর্ড একটি আলোচনার আয়োজন করেন এবং তার প্রেক্ষিতে তারা জানান যে টিকটক ব্যবহারকারীদের কোন কোটার আওতায় আনা সম্ভব নয় তবে তারা যদি চায় প্রতিবন্ধী কোটায় আবেদন করতে পারে।\n"
          ],
          "name": "stdout"
        }
      ]
    },
    {
      "cell_type": "code",
      "metadata": {
        "colab": {
          "base_uri": "https://localhost:8080/"
        },
        "id": "_IUNvft8CGda",
        "outputId": "5f7c7723-0b81-4056-8a1b-6e03495b8fac"
      },
      "source": [
        "vocab0 = vocab.transform([r0])\n",
        "print(vocab0)"
      ],
      "execution_count": null,
      "outputs": [
        {
          "output_type": "stream",
          "text": [
            "  (0, 0)\t378\n",
            "  (0, 2)\t1\n",
            "  (0, 5)\t5\n",
            "  (0, 8)\t1\n",
            "  (0, 10)\t6\n",
            "  (0, 12)\t2\n",
            "  (0, 13)\t22\n",
            "  (0, 14)\t1\n",
            "  (0, 15)\t2\n",
            "  (0, 18)\t3\n",
            "  (0, 19)\t3\n",
            "  (0, 20)\t4\n",
            "  (0, 22)\t1\n",
            "  (0, 23)\t11\n",
            "  (0, 25)\t1\n",
            "  (0, 26)\t1\n",
            "  (0, 27)\t1\n",
            "  (0, 28)\t21\n",
            "  (0, 29)\t1\n",
            "  (0, 30)\t11\n",
            "  (0, 31)\t2\n",
            "  (0, 32)\t15\n",
            "  (0, 33)\t11\n",
            "  (0, 35)\t29\n",
            "  (0, 36)\t2\n",
            "  (0, 37)\t5\n",
            "  (0, 38)\t9\n",
            "  (0, 39)\t34\n",
            "  (0, 40)\t8\n",
            "  (0, 41)\t7\n",
            "  (0, 42)\t4\n",
            "  (0, 43)\t6\n",
            "  (0, 44)\t2\n",
            "  (0, 46)\t34\n",
            "  (0, 47)\t31\n",
            "  (0, 48)\t4\n",
            "  (0, 49)\t3\n",
            "  (0, 50)\t1\n",
            "  (0, 52)\t26\n",
            "  (0, 54)\t10\n",
            "  (0, 56)\t27\n",
            "  (0, 59)\t11\n"
          ],
          "name": "stdout"
        }
      ]
    },
    {
      "cell_type": "code",
      "metadata": {
        "colab": {
          "base_uri": "https://localhost:8080/"
        },
        "id": "DIrcbUGsCLMy",
        "outputId": "06fd7ce3-e7f8-4eb2-d7c7-83b5a724da63"
      },
      "source": [
        "print(vocab.get_feature_names()[50])\n",
        "print(vocab.get_feature_names()[50])"
      ],
      "execution_count": null,
      "outputs": [
        {
          "output_type": "stream",
          "text": [
            "ূ\n",
            "ূ\n"
          ],
          "name": "stdout"
        }
      ]
    },
    {
      "cell_type": "code",
      "metadata": {
        "id": "mo0vvzS5CQcv"
      },
      "source": [
        "x = vocab.transform(x)"
      ],
      "execution_count": null,
      "outputs": []
    },
    {
      "cell_type": "code",
      "metadata": {
        "colab": {
          "base_uri": "https://localhost:8080/"
        },
        "id": "Gn7RHS-xCUhJ",
        "outputId": "41b626a5-7742-433f-9d46-ef47b810aca4"
      },
      "source": [
        "print(\"Shape of the sparse matrix: \", x.shape)\n",
        "print(\"Non-Zero occurences: \",x.nnz)\n",
        "density = (x.nnz/(x.shape[0]*x.shape[1]))*100\n",
        "print(\"Density of the matrix = \",density)"
      ],
      "execution_count": null,
      "outputs": [
        {
          "output_type": "stream",
          "text": [
            "Shape of the sparse matrix:  (309, 65)\n",
            "Non-Zero occurences:  12473\n",
            "Density of the matrix =  62.10107045058501\n"
          ],
          "name": "stdout"
        }
      ]
    },
    {
      "cell_type": "code",
      "metadata": {
        "id": "npTD3OmHCfyc"
      },
      "source": [
        "x_train,x_test,y_train,y_test = train_test_split(x,y,test_size=0.15,random_state=101)"
      ],
      "execution_count": null,
      "outputs": []
    },
    {
      "cell_type": "code",
      "metadata": {
        "colab": {
          "base_uri": "https://localhost:8080/"
        },
        "id": "PRy4MWxuCl8C",
        "outputId": "2efe4961-e0c7-43f8-d583-70d2888e62ea"
      },
      "source": [
        "from sklearn.naive_bayes import MultinomialNB\n",
        "mnb = MultinomialNB()\n",
        "mnb.fit(x_train,y_train)\n",
        "predmnb = mnb.predict(x_test)\n",
        "print(\"Confusion Matrix for Multinomial Naive Bayes:\")\n",
        "print(confusion_matrix(y_test,predmnb))\n",
        "print(\"Score:\",round(accuracy_score(y_test,predmnb)*100,2))\n",
        "print(\"Classification Report:\",classification_report(y_test,predmnb))"
      ],
      "execution_count": null,
      "outputs": [
        {
          "output_type": "stream",
          "text": [
            "Confusion Matrix for Multinomial Naive Bayes:\n",
            "[[20  9]\n",
            " [ 3 15]]\n",
            "Score: 74.47\n",
            "Classification Report:               precision    recall  f1-score   support\n",
            "\n",
            "           0       0.87      0.69      0.77        29\n",
            "           1       0.62      0.83      0.71        18\n",
            "\n",
            "    accuracy                           0.74        47\n",
            "   macro avg       0.75      0.76      0.74        47\n",
            "weighted avg       0.78      0.74      0.75        47\n",
            "\n"
          ],
          "name": "stdout"
        }
      ]
    },
    {
      "cell_type": "code",
      "metadata": {
        "colab": {
          "base_uri": "https://localhost:8080/"
        },
        "id": "PIu10wCrCraG",
        "outputId": "4c0045ac-e4b7-4cbf-a47a-53bdcb3d82ee"
      },
      "source": [
        "acc1=metrics.accuracy_score(y_test, predmnb)\n",
        "print(\"Accuracy:\",acc1*100,\"%\")"
      ],
      "execution_count": null,
      "outputs": [
        {
          "output_type": "stream",
          "text": [
            "Accuracy: 74.46808510638297 %\n"
          ],
          "name": "stdout"
        }
      ]
    },
    {
      "cell_type": "code",
      "metadata": {
        "colab": {
          "base_uri": "https://localhost:8080/"
        },
        "id": "AsDAdPQoCxcl",
        "outputId": "5fae228c-25c7-4964-dc46-e318a8b83c39"
      },
      "source": [
        "from sklearn.ensemble import RandomForestClassifier\n",
        "rmfr = RandomForestClassifier()\n",
        "rmfr.fit(x_train,y_train)\n",
        "predrmfr = rmfr.predict(x_test)\n",
        "print(\"Confusion Matrix for Random Forest Classifier:\")\n",
        "print(confusion_matrix(y_test,predrmfr))\n",
        "print(\"Score:\",round(accuracy_score(y_test,predrmfr)*100,2))\n",
        "print(\"Classification Report:\",classification_report(y_test,predrmfr))"
      ],
      "execution_count": null,
      "outputs": [
        {
          "output_type": "stream",
          "text": [
            "Confusion Matrix for Random Forest Classifier:\n",
            "[[27  2]\n",
            " [ 5 13]]\n",
            "Score: 85.11\n",
            "Classification Report:               precision    recall  f1-score   support\n",
            "\n",
            "           0       0.84      0.93      0.89        29\n",
            "           1       0.87      0.72      0.79        18\n",
            "\n",
            "    accuracy                           0.85        47\n",
            "   macro avg       0.86      0.83      0.84        47\n",
            "weighted avg       0.85      0.85      0.85        47\n",
            "\n"
          ],
          "name": "stdout"
        }
      ]
    },
    {
      "cell_type": "code",
      "metadata": {
        "colab": {
          "base_uri": "https://localhost:8080/"
        },
        "id": "1qojiljFC8UR",
        "outputId": "87794835-3bd3-42ef-d720-736e359e3947"
      },
      "source": [
        "acc2=metrics.accuracy_score(y_test,predrmfr)\n",
        "print(\"Accuracy:\",acc2*100,\"%\")"
      ],
      "execution_count": null,
      "outputs": [
        {
          "output_type": "stream",
          "text": [
            "Accuracy: 85.1063829787234 %\n"
          ],
          "name": "stdout"
        }
      ]
    },
    {
      "cell_type": "code",
      "metadata": {
        "colab": {
          "base_uri": "https://localhost:8080/"
        },
        "id": "I5oe8RK9DCMv",
        "outputId": "9a6b0705-49f8-4323-efb1-2c0de9492803"
      },
      "source": [
        "from sklearn.tree import DecisionTreeClassifier\n",
        "dt = DecisionTreeClassifier()\n",
        "dt.fit(x_train,y_train)\n",
        "preddt = dt.predict(x_test)\n",
        "print(\"Confusion Matrix for Decision Tree:\")\n",
        "print(confusion_matrix(y_test,preddt))\n",
        "print(\"Score:\",round(accuracy_score(y_test,preddt)*100,2))\n",
        "print(\"Classification Report:\",classification_report(y_test,preddt))"
      ],
      "execution_count": null,
      "outputs": [
        {
          "output_type": "stream",
          "text": [
            "Confusion Matrix for Decision Tree:\n",
            "[[25  4]\n",
            " [ 9  9]]\n",
            "Score: 72.34\n",
            "Classification Report:               precision    recall  f1-score   support\n",
            "\n",
            "           0       0.74      0.86      0.79        29\n",
            "           1       0.69      0.50      0.58        18\n",
            "\n",
            "    accuracy                           0.72        47\n",
            "   macro avg       0.71      0.68      0.69        47\n",
            "weighted avg       0.72      0.72      0.71        47\n",
            "\n"
          ],
          "name": "stdout"
        }
      ]
    },
    {
      "cell_type": "code",
      "metadata": {
        "colab": {
          "base_uri": "https://localhost:8080/"
        },
        "id": "T2bQk28rDI9z",
        "outputId": "a9e023ec-9576-48a9-b6c3-908437dba7e8"
      },
      "source": [
        "acc3=metrics.accuracy_score(y_test,preddt)\n",
        "print(\"Accuracy:\",acc3*100,\"%\")"
      ],
      "execution_count": null,
      "outputs": [
        {
          "output_type": "stream",
          "text": [
            "Accuracy: 72.3404255319149 %\n"
          ],
          "name": "stdout"
        }
      ]
    },
    {
      "cell_type": "code",
      "metadata": {
        "colab": {
          "base_uri": "https://localhost:8080/"
        },
        "id": "0lYm6W6GLDEu",
        "outputId": "ec861af9-5abb-4500-f65b-e0db4f1eb22c"
      },
      "source": [
        "from sklearn.svm import SVC\n",
        "svm = SVC(random_state=101)\n",
        "svm.fit(x_train,y_train)\n",
        "predsvm = svm.predict(x_test)\n",
        "print(\"Confusion Matrix for Support Vector Machines:\")\n",
        "print(confusion_matrix(y_test,predsvm))\n",
        "print(\"Score:\",round(accuracy_score(y_test,predsvm)*100,2))\n",
        "print(\"Classification Report:\",classification_report(y_test,predsvm))"
      ],
      "execution_count": null,
      "outputs": [
        {
          "output_type": "stream",
          "text": [
            "Confusion Matrix for Support Vector Machines:\n",
            "[[19 10]\n",
            " [ 3 15]]\n",
            "Score: 72.34\n",
            "Classification Report:               precision    recall  f1-score   support\n",
            "\n",
            "           0       0.86      0.66      0.75        29\n",
            "           1       0.60      0.83      0.70        18\n",
            "\n",
            "    accuracy                           0.72        47\n",
            "   macro avg       0.73      0.74      0.72        47\n",
            "weighted avg       0.76      0.72      0.73        47\n",
            "\n"
          ],
          "name": "stdout"
        }
      ]
    },
    {
      "cell_type": "code",
      "metadata": {
        "id": "98t-XtqwPVDr"
      },
      "source": [
        "import pickle\n"
      ],
      "execution_count": null,
      "outputs": []
    },
    {
      "cell_type": "code",
      "metadata": {
        "colab": {
          "base_uri": "https://localhost:8080/"
        },
        "id": "PmrA5EGePrMP",
        "outputId": "d8cca8a6-1ff1-404b-bea4-6fa4c0c9e9b2"
      },
      "source": [
        "acc4=metrics.accuracy_score(y_test,predsvm)\n",
        "print(\"Accuracy:\",acc4*100,\"%\")"
      ],
      "execution_count": null,
      "outputs": [
        {
          "output_type": "stream",
          "text": [
            "Accuracy: 72.3404255319149 %\n"
          ],
          "name": "stdout"
        }
      ]
    },
    {
      "cell_type": "code",
      "metadata": {
        "colab": {
          "base_uri": "https://localhost:8080/"
        },
        "id": "MdbrDF8QPuJs",
        "outputId": "3bd3902f-7abb-4c4e-98e2-c2e31c0deb0a"
      },
      "source": [
        "from sklearn.neighbors import KNeighborsClassifier\n",
        "knn = KNeighborsClassifier(n_neighbors=3)\n",
        "knn.fit(x_train,y_train)\n",
        "predknn = knn.predict(x_test)\n",
        "print(\"Confusion Matrix for K Neighbors Classifier:\")\n",
        "print(confusion_matrix(y_test,predknn))\n",
        "print(\"Score: \",round(accuracy_score(y_test,predknn)*100,2))\n",
        "print(\"Classification Report:\")\n",
        "print(classification_report(y_test,predknn))"
      ],
      "execution_count": null,
      "outputs": [
        {
          "output_type": "stream",
          "text": [
            "Confusion Matrix for K Neighbors Classifier:\n",
            "[[21  8]\n",
            " [ 6 12]]\n",
            "Score:  70.21\n",
            "Classification Report:\n",
            "              precision    recall  f1-score   support\n",
            "\n",
            "           0       0.78      0.72      0.75        29\n",
            "           1       0.60      0.67      0.63        18\n",
            "\n",
            "    accuracy                           0.70        47\n",
            "   macro avg       0.69      0.70      0.69        47\n",
            "weighted avg       0.71      0.70      0.70        47\n",
            "\n"
          ],
          "name": "stdout"
        }
      ]
    },
    {
      "cell_type": "code",
      "metadata": {
        "colab": {
          "base_uri": "https://localhost:8080/"
        },
        "id": "_3DA0mZxVEi-",
        "outputId": "d69966bd-c909-4dca-d113-1e94d645d27c"
      },
      "source": [
        "acc5=metrics.accuracy_score(y_test,predknn)\n",
        "print(\"Accuracy:\",acc5*100,\"%\")"
      ],
      "execution_count": null,
      "outputs": [
        {
          "output_type": "stream",
          "text": [
            "Accuracy: 70.2127659574468 %\n"
          ],
          "name": "stdout"
        }
      ]
    },
    {
      "cell_type": "code",
      "metadata": {
        "colab": {
          "base_uri": "https://localhost:8080/"
        },
        "id": "_1TorKutVJFT",
        "outputId": "ac929195-4ee0-40c7-d5db-fd9c606ff611"
      },
      "source": [
        "news=input()\n",
        "prt=vocab.transform([news])"
      ],
      "execution_count": null,
      "outputs": [
        {
          "output_type": "stream",
          "text": [
            "হোয়াটস অ্যাপে ছড়িয়ে পড়া একটি মেসেজে বলা হয়, হোয়াটস অ্যাপের সিইও সমস্ত হোয়াটস অ্যাপ ব্যবহারকারীর কাছে অনুরোধ রেখেছেন, তাঁরা যেন নিজেদের প্রোফাইল পিক সরিয়ে নেন। নতুবা সেই ডিপি সন্ত্রাসের কাজে ব্যবহার করতে পারে ইসলামিক স্টেট জঙ্গিরা\n"
          ],
          "name": "stdout"
        }
      ]
    },
    {
      "cell_type": "code",
      "metadata": {
        "colab": {
          "base_uri": "https://localhost:8080/"
        },
        "id": "7IexLfkhVNTP",
        "outputId": "3dbd0fd8-9570-49ff-b1de-a9e0a07a9664"
      },
      "source": [
        "m1=svm.predict(prt)\n",
        "print(\"Predicted Rating:\",m1)\n",
        "if m1==0:\n",
        "  print(\"Fake News\")\n",
        "else:\n",
        "  print(\"Authentic News\")"
      ],
      "execution_count": null,
      "outputs": [
        {
          "output_type": "stream",
          "text": [
            "Predicted Rating: [1]\n",
            "Authentic News\n"
          ],
          "name": "stdout"
        }
      ]
    },
    {
      "cell_type": "code",
      "metadata": {
        "colab": {
          "base_uri": "https://localhost:8080/"
        },
        "id": "X_hTkNxqVqU6",
        "outputId": "df736cc8-2971-4a40-ff4b-4e3062f55f06"
      },
      "source": [
        "m2=knn.predict(prt)\n",
        "print(\"Predicted Rating:\",m2)\n",
        "if m2==0:\n",
        "  print(\"Fake News\")\n",
        "else: \n",
        "  print(\"Authentic News\")"
      ],
      "execution_count": null,
      "outputs": [
        {
          "output_type": "stream",
          "text": [
            "Predicted Rating: [1]\n",
            "Authentic News\n"
          ],
          "name": "stdout"
        }
      ]
    },
    {
      "cell_type": "code",
      "metadata": {
        "colab": {
          "base_uri": "https://localhost:8080/"
        },
        "id": "PcQxQ89sVrTG",
        "outputId": "9c15edd1-4dcf-4bff-8a0f-112d68a0e21d"
      },
      "source": [
        "m3=dt.predict(prt)\n",
        "print(\"Predicted Rating:\",m3)\n",
        "if m3==0:\n",
        "  print(\"Fake News\")\n",
        "else:\n",
        "  print(\"Authentic News\")"
      ],
      "execution_count": null,
      "outputs": [
        {
          "output_type": "stream",
          "text": [
            "Predicted Rating: [0]\n",
            "Fake News\n"
          ],
          "name": "stdout"
        }
      ]
    },
    {
      "cell_type": "code",
      "metadata": {
        "colab": {
          "base_uri": "https://localhost:8080/"
        },
        "id": "gYzTG15ZV7-2",
        "outputId": "bff755ce-8eab-44db-9482-f084de68ea02"
      },
      "source": [
        "m4=mnb.predict(prt)\n",
        "print(\"Predicted Rating:\",m4)\n",
        "if m4==0:\n",
        "  print(\"Fake News\")\n",
        "else:\n",
        "  print(\"Authentic News\")"
      ],
      "execution_count": null,
      "outputs": [
        {
          "output_type": "stream",
          "text": [
            "Predicted Rating: [0]\n",
            "Fake News\n"
          ],
          "name": "stdout"
        }
      ]
    },
    {
      "cell_type": "code",
      "metadata": {
        "colab": {
          "base_uri": "https://localhost:8080/"
        },
        "id": "9LLMwp6fWCRi",
        "outputId": "c07282d6-1830-4f1e-d21a-e3ab886c141a"
      },
      "source": [
        "m5=rmfr.predict(prt)\n",
        "print(\"Predicted Rating:\",m5)\n",
        "if m5==0:\n",
        "  print(\"Fake News\")\n",
        "else:\n",
        "  print(\"Authentic News\")"
      ],
      "execution_count": null,
      "outputs": [
        {
          "output_type": "stream",
          "text": [
            "Predicted Rating: [1]\n",
            "Authentic News\n"
          ],
          "name": "stdout"
        }
      ]
    },
    {
      "cell_type": "code",
      "metadata": {
        "colab": {
          "base_uri": "https://localhost:8080/",
          "height": 452
        },
        "id": "IO3byNXDWGEH",
        "outputId": "5709ca2b-12e2-46ce-8a5c-a37a7cba3315"
      },
      "source": [
        "import matplotlib.pyplot as plt; plt.rcdefaults()\n",
        "import numpy as np\n",
        "import matplotlib.pyplot as plt\n",
        "\n",
        "objects = ('MNB','RF','DT','SVC','KNN')\n",
        "y_pos = np.arange(len(objects))\n",
        "performance = [acc1,acc2,acc3,acc4,acc5]\n",
        "\n",
        "plt.bar(y_pos, performance, align='center', alpha=0.9)\n",
        "plt.xticks(y_pos, objects)\n",
        "plt.ylabel('Accuracy')\n",
        "plt.title('Best Accuracy')\n",
        "\n",
        "plt.show()"
      ],
      "execution_count": null,
      "outputs": [
        {
          "output_type": "display_data",
          "data": {
            "image/png": "[encoded data removed]",
            "text/plain": [
              "<Figure size 640x480 with 1 Axes>"
            ]
          },
          "metadata": {
            "tags": []
          }
        }
      ]
    },
    {
      "cell_type": "code",
      "metadata": {
        "id": "Jk4s1J5_WLZS"
      },
      "source": [
        ""
      ],
      "execution_count": null,
      "outputs": []
    }
  ]
}